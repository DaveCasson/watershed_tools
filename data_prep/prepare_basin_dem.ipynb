{
 "cells": [
  {
   "cell_type": "markdown",
   "metadata": {},
   "source": [
    "### Prepare basin DEM inputs for discretization process ###\n",
    "\n",
    "#### This script requires that the target basin GRU and flowline shapefiles exist ####\n",
    "If they do not, run 'prepare_basin_shapefiles' script first. <br>\n",
    "\n",
    "Script tasks (each executed only if needed):\n",
    "1. project larger full-domain DEM raster into a specified projection system\n",
    "2. extract DEM for the basin area<br>\n",
    "3. rasterize basin GRU shapefile based on basin DEM raster\n",
    "4. calculate slope and aspect for the basin area\n",
    "5. visualize (plot) slope and aspect results"
   ]
  },
  {
   "cell_type": "code",
   "execution_count": null,
   "metadata": {},
   "outputs": [],
   "source": [
    "# import libraries\n",
    "import os, sys \n",
    "import numpy as np\n",
    "import geopandas as gpd\n",
    "import rasterio as rio\n",
    "from rasterio.warp import Resampling\n",
    "import matplotlib.pyplot as plt \n",
    "from mpl_toolkits.axes_grid1 import make_axes_locatable\n",
    "sys.path.append('../')   # libraries from this repo\n",
    "import functions.utils as ut\n",
    "import functions.geospatial_analysis as ga\n",
    "import functions.geospatial_plot as gp"
   ]
  },
  {
   "cell_type": "markdown",
   "metadata": {},
   "source": [
    "#### set data paths, filenames, and other settings ####"
   ]
  },
  {
   "cell_type": "code",
   "execution_count": null,
   "metadata": {},
   "outputs": [],
   "source": [
    "# common paths\n",
    "control_file    = '../control.tpl.txt'\n",
    "basin_data_path = ut.read_from_control(control_file, 'basin_data_path')\n",
    "source_path     = ut.read_from_control(control_file, 'source_path')\n",
    "basin_name      = ut.read_from_control(control_file, 'basin_name')"
   ]
  },
  {
   "cell_type": "code",
   "execution_count": null,
   "metadata": {},
   "outputs": [],
   "source": [
    "# large-domain data files\n",
    "fulldom_dem_raster  = ut.read_from_control(control_file, 'fulldom_dem_raster')\n",
    "\n",
    "# basin-specific files\n",
    "basin_gru_shp         = ut.read_from_control(control_file, 'basin_gru_shp')\n",
    "basin_dem_raster      = ut.set_filename(control_file, 'basin_dem_raster')  \n",
    "basin_slope_raster    = ut.set_filename(control_file, 'basin_slope_raster')  \n",
    "basin_aspect_raster   = ut.set_filename(control_file, 'basin_aspect_raster') \n",
    "basin_flowlines_shp   = ut.set_filename(control_file, 'basin_flowlines_shp')\n",
    "basin_gru_raster      = ut.set_filename(control_file, 'basin_gru_raster')\n",
    "refraster             = ut.set_filename(control_file, 'refraster')\n",
    "\n",
    "# variable / field information\n",
    "huc_fieldname         = ut.read_from_control(control_file, 'huc_fieldname')      \n",
    "gruNo_fieldname       = ut.read_from_control(control_file, 'gruNo_fieldname')\n",
    "gruNo_field_dtype     = ut.read_from_control(control_file, 'gruNo_field_dtype')\n",
    "gruId_fieldname       = ut.read_from_control(control_file, 'gruId_fieldname')\n",
    "basin_gruNo_gruId_txt = ut.set_filename(control_file, 'basin_gruNo_gruId_txt')\n",
    "\n",
    "# derived filenames\n",
    "dem_prj_raster        = fulldom_dem_raster.split('.tif')[0]+'_prj.tif'\n",
    "basin_gru_prj_shp     = basin_gru_shp.split('.shp')[0]+'_prj.shp' "
   ]
  },
  {
   "cell_type": "code",
   "execution_count": null,
   "metadata": {},
   "outputs": [],
   "source": [
    "# define equal area projection system\n",
    "new_epsg = ut.read_from_control(control_file, 'epsg') \n",
    "dest_crs = rio.crs.CRS.from_epsg(new_epsg)"
   ]
  },
  {
   "cell_type": "code",
   "execution_count": null,
   "metadata": {},
   "outputs": [],
   "source": [
    "# check whether required input shapefiles exist -- if not, exit\n",
    "if not (os.path.exists(basin_flowlines_shp) and os.path.exists(basin_gru_prj_shp)):\n",
    "    print('Required input shapefiles do not exist:', basin_gru_shp, 'and', basin_flowlines_shp )\n",
    "    print('Run prepare_basin_shapefiles script to create them')\n",
    "    print('STOP')        # warning in jupyter notebook; use exit() in normal script"
   ]
  },
  {
   "cell_type": "markdown",
   "metadata": {},
   "source": [
    "#### Extract basin DEM ####"
   ]
  },
  {
   "cell_type": "code",
   "execution_count": null,
   "metadata": {},
   "outputs": [],
   "source": [
    "if not os.path.exists(basin_dem_raster):\n",
    "    if not os.path.exists(dem_prj_raster):\n",
    "        # reproject large-domain DEM to equal-area projection if it doesn't already exist (can take time (minutes) if the DEM is large)\n",
    "        ga.reproject_raster(dem_raster, dem_prj_raster, dest_crs, Resampling.bilinear)    # cannot use 'nearest' - results in striations\n",
    "        print(\"re-projected full domain raster ( epsg =\", new_epsg, \"): \", dem_prj_raster)    \n",
    "    \n",
    "    ga.crop_raster(dem_prj_raster, basin_gru_prj_shp, basin_dem_raster)\n",
    "print('basin DEM raster: ', basin_dem_raster)"
   ]
  },
  {
   "cell_type": "markdown",
   "metadata": {},
   "source": [
    "#### Rasterize basin GRU shapefile based on domain DEM raster ####\n",
    "The basin GRU raster will be used in HRU generation and for calculating zonal statistics"
   ]
  },
  {
   "cell_type": "code",
   "execution_count": null,
   "metadata": {},
   "outputs": [],
   "source": [
    "if not (os.path.exists(basin_gru_raster) and os.path.exists(basin_gruNo_gruId_txt)):\n",
    "    ga.rasterize_gru_vector(basin_gru_prj_shp, huc_fieldname, gruId_fieldname, gruNo_fieldname, gruNo_field_dtype,\n",
    "                         refraster, basin_gru_raster, basin_gruNo_gruId_txt)\n",
    "print('rasterized GRU shapefile: ', basin_gru_raster)\n",
    "print('wrote gruNo to gruId file: ', basin_gruNo_gruId_txt)"
   ]
  },
  {
   "cell_type": "markdown",
   "metadata": {},
   "source": [
    "#### Calculate domain slope and aspect, and classify aspect into 8 directions ####"
   ]
  },
  {
   "cell_type": "code",
   "execution_count": null,
   "metadata": {},
   "outputs": [],
   "source": [
    "# use numpy module (takes a little while - can skip if these rasters exist)\n",
    "if not (os.path.exists(basin_slope_raster) and os.path.exists(basin_aspect_raster)):\n",
    "    ga.calculate_slope_and_aspect(basin_dem_raster, basin_slope_raster, basin_aspect_raster)\n",
    "\n",
    "# alternate method: use gdal module\n",
    "# from osgeo import gdal\n",
    "# gdal.UseExceptions()\n",
    "# gdal.DEMProcessing(basin_slope_raster, basin_dem_raster, 'slope', computeEdges=True)\n",
    "# gdal.DEMProcessing(basin_aspect_raster, basin_dem_raster, 'aspect', zeroForFlat=True)\n",
    "\n",
    "# classify aspect into 8 classes (can skip if this exists)\n",
    "aspect_class_raster = basin_aspect_raster.split('.tif')[0]+'_class.tif'\n",
    "if not os.path.exists(aspect_class_raster):\n",
    "    ga.classify_aspect(basin_aspect_raster, 8, aspect_class_raster)\n",
    "    \n",
    "print('basin slope/aspect rasters: ', basin_slope_raster, basin_aspect_raster)"
   ]
  },
  {
   "cell_type": "markdown",
   "metadata": {},
   "source": [
    "#### Visualization:  Check slope and aspect results ####"
   ]
  },
  {
   "cell_type": "code",
   "execution_count": null,
   "metadata": {},
   "outputs": [],
   "source": [
    "def read_raster(file):   \n",
    "    with rio.open(file) as ff:\n",
    "        data  = ff.read(1)\n",
    "        mask = ff.read_masks(1)\n",
    "    data_ma = np.ma.masked_array(data, mask==0)\n",
    "    return data_ma\n",
    "\n",
    "def plot_locatable_axes(data, ax):\n",
    "    # reference: https://matplotlib.org/stable/gallery/axes_grid1/demo_axes_divider.html#sphx-glr-gallery-axes-grid1-demo-axes-divider-py\n",
    "    divider = make_axes_locatable(ax)\n",
    "    ax_cb = divider.new_horizontal(size=\"5%\", pad=0.05)\n",
    "    fig = ax.get_figure()\n",
    "    fig.add_axes(ax_cb)\n",
    "\n",
    "    im = ax.imshow(data)\n",
    "    plt.colorbar(im, cax=ax_cb)\n",
    "    ax_cb.yaxis.tick_right()\n",
    "\n",
    "plt.clf()\n",
    "plt.figure()\n",
    "f, ax = plt.subplots(1,3, figsize=(20,20)) \n",
    "\n",
    "dem_ma = read_raster(basin_dem_raster)\n",
    "plot_locatable_axes(dem_ma, ax[0])\n",
    "ax[0].set_title('DEM')\n",
    "\n",
    "slp_ma = read_raster(basin_slope_raster)\n",
    "plot_locatable_axes(slp_ma, ax[1])\n",
    "ax[1].set_title('slope')\n",
    "\n",
    "asp_ma = read_raster(basin_aspect_raster)\n",
    "plot_locatable_axes(asp_ma, ax[2])\n",
    "ax[2].set_title('aspect')\n",
    "\n",
    "plt.tight_layout()\n",
    "plt.show()"
   ]
  },
  {
   "cell_type": "markdown",
   "metadata": {},
   "source": [
    "#### Visualization:  Check aspect class ####"
   ]
  },
  {
   "cell_type": "code",
   "execution_count": null,
   "metadata": {},
   "outputs": [],
   "source": [
    "# define legend dictionary. dist[raster_value]=list(color,label)\n",
    "legend_dict = {0:[\"black\", \"Flat (0)\"],\n",
    "               1:[\"red\", \"North (337.5 - 22.5)\"],\n",
    "               2:[\"orange\", 'Northeast (22.5 - 67.5)'],\n",
    "               3:[\"yellow\", 'East (67.5 - 112.5)'], \n",
    "               4:[\"lime\", 'Southeast (112.5 - 157.5)'], \n",
    "               5:[\"cyan\", 'South (157.5 - 202.5)'], \n",
    "               6:[\"cornflowerblue\", 'Southwest (202.5 - 247.5)'], \n",
    "               7:[\"blue\", 'West (247.5 - 292.5)'], \n",
    "               8:[\"purple\", 'Northwest (292.5 - 337.5)']} \n",
    "\n",
    "label_dict =  {0:\"Flat (0)\",\n",
    "               1:\"North (337.7 - 22.5)\",\n",
    "               2:'Northeast (22.5 - 67.5)',\n",
    "               3:'East (67.5 - 112.5)', \n",
    "               4:'Southeast (112.5 - 157.5)', \n",
    "               5:'South (157.5 - 202.5)', \n",
    "               6:'Southwest (202.5 - 247.5)', \n",
    "               7:'West (247.5 - 292.5)', \n",
    "               8:'Northwest (292.5 - 337.5)'}\n",
    "\n",
    "wgs_epsg = 4326\n",
    "figsize  = (15,15*0.6) # width, height in inches\n",
    "title    = basin_name.capitalize() + ' aspect class'\n",
    "leg_ncol = 2\n",
    "leg_loc  = 'upper center'\n",
    "leg_bbox_to_anchor = (0.5,-0.15)\n",
    "\n",
    "# plot classified aspect\n",
    "output_fig_file = os.path.join(basin_data_path, 'plots/aspect_class_and_bound_stream.png')   \n",
    "gp.plot_raster_and_bound_stream(aspect_class_raster, basin_gru_prj_shp, basin_flowlines_shp, wgs_epsg, 'user', legend_dict, figsize, title, leg_loc, leg_bbox_to_anchor, leg_ncol, output_fig_file)"
   ]
  },
  {
   "cell_type": "code",
   "execution_count": null,
   "metadata": {},
   "outputs": [],
   "source": []
  }
 ],
 "metadata": {
  "kernelspec": {
   "display_name": "Pangeo (2019.09.12 - py3.7)",
   "language": "python",
   "name": "pangeo-2019.09.12"
  },
  "language_info": {
   "codemirror_mode": {
    "name": "ipython",
    "version": 3
   },
   "file_extension": ".py",
   "mimetype": "text/x-python",
   "name": "python",
   "nbconvert_exporter": "python",
   "pygments_lexer": "ipython3",
   "version": "3.7.3"
  }
 },
 "nbformat": 4,
 "nbformat_minor": 4
}
