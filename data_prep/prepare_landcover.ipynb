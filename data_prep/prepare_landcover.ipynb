{
 "cells": [
  {
   "cell_type": "markdown",
   "metadata": {},
   "source": [
    "### Prepare landcover input for discretization ###\n",
    "Prepare landcover input data for the domain area. This step includes:<br>\n",
    "1. project large-domain input into a common projection system.\n",
    "2. extract input for the domain area.\n",
    "3. resample input according to a reference raster (if needed).\n",
    "4. classifiy landcover into canopy and non-canopy.\n",
    "5. check domain landcover and landcover class."
   ]
  },
  {
   "cell_type": "code",
   "execution_count": 1,
   "metadata": {},
   "outputs": [],
   "source": [
    "# import libraries\n",
    "import os, sys \n",
    "sys.path.append('../')\n",
    "import functions.geospatial_analysis as ga\n",
    "import functions.geospatial_plot as gp\n",
    "import functions.utils as ut\n",
    "import rasterio as rio\n",
    "import rasterio.shutil\n",
    "from rasterio.warp import Resampling"
   ]
  },
  {
   "cell_type": "markdown",
   "metadata": {},
   "source": [
    "#### Set data files, paths and other entries ####"
   ]
  },
  {
   "cell_type": "code",
   "execution_count": 2,
   "metadata": {},
   "outputs": [],
   "source": [
    "# common paths\n",
    "control_file      = '../control.tpl.txt'\n",
    "basin_data_path   = ut.read_from_control(control_file, 'basin_data_path')\n",
    "source_path       = ut.read_from_control(control_file, 'source_path')\n",
    "basin_name        = ut.read_from_control(control_file, 'basin_name')\n",
    "plot_path         = os.path.join(basin_data_path, 'plots')  # this is made in 'prepare_basin_shapefiles' script"
   ]
  },
  {
   "cell_type": "code",
   "execution_count": 3,
   "metadata": {},
   "outputs": [],
   "source": [
    "# define equal area projection system\n",
    "new_epsg = ut.read_from_control(control_file, 'epsg') \n",
    "dest_crs = rio.crs.CRS.from_epsg(new_epsg)"
   ]
  },
  {
   "cell_type": "code",
   "execution_count": 4,
   "metadata": {},
   "outputs": [],
   "source": [
    "# large-domain data\n",
    "landcover_raster     = ut.read_from_control(control_file, 'fulldom_landcover_raster')\n",
    "\n",
    "# basin data\n",
    "basin_gru_shp                   = ut.read_from_control(control_file, 'basin_gru_shp')\n",
    "basin_flowlines_shp             = ut.set_filename(control_file, 'basin_flowlines_shp')\n",
    "basin_landcover_raster          = ut.set_filename(control_file, 'basin_landcover_raster') \n",
    "basin_landcover_resample_raster = ut.set_filename(control_file, 'basin_landcover_resample_raster')\n",
    "basin_canopy_class_raster       = ut.set_filename(control_file, 'basin_canopy_class_raster')\n",
    "refraster = ut.set_filename(control_file, 'refraster')\n",
    "\n",
    "# derived filenames\n",
    "landcover_prj_raster = landcover_raster.split('.tif')[0]+'_prj.tif'\n",
    "basin_gru_prj_shp    = basin_gru_shp.split('.shp')[0]+'_prj.shp' "
   ]
  },
  {
   "cell_type": "markdown",
   "metadata": {},
   "source": [
    "#### 2. Extract domain landcover ####"
   ]
  },
  {
   "cell_type": "code",
   "execution_count": 5,
   "metadata": {},
   "outputs": [
    {
     "name": "stdout",
     "output_type": "stream",
     "text": [
      "cropped reprojected landcover raster: /glade/work/andywood/complexity/basins/bighorn/06282000/gis/landcover.tif\n"
     ]
    }
   ],
   "source": [
    "if not os.path.exists(basin_landcover_raster):\n",
    "    # if needed, reproject original landcover to target equal-area coordinates\n",
    "    if not os.path.exists(landcover_prj_raster):\n",
    "        ga.reproject_raster(landcover_raster, landcover_prj_raster, dest_crs, Resampling.nearest) \n",
    "        print('reprojected landcover raster:', landcover_prj_raster) \n",
    "        \n",
    "    ga.crop_raster(landcover_prj_raster, basin_gru_prj_shp, basin_landcover_raster)\n",
    "    \n",
    "print('cropped reprojected landcover raster:', basin_landcover_raster)"
   ]
  },
  {
   "cell_type": "markdown",
   "metadata": {},
   "source": [
    "#### Resample domain landcover and classify into canopy vs non-canopy ####\n",
    "Resample is only applied to the domain raster that has a coarser resolution than the reference raster. The reference raster is specified by user (by default, it refers to the domain DEM).<br>\n",
    "\n",
    "Data source: 20-category IGBP land cover dataset at 1/160 degree resolution (IGBP, 1990)<br>\n",
    "Canopy class includes: 1 Evergreen needleleaf forests, 2 Evergreen broadleaf forests, 3 Deciduous needleleaf forests, 4 Deciduous broadleaf forests, 5 Mixed forests, 6 Closed shrublands, 8 Woody savannas. "
   ]
  },
  {
   "cell_type": "code",
   "execution_count": 6,
   "metadata": {},
   "outputs": [
    {
     "name": "stdout",
     "output_type": "stream",
     "text": [
      "resampled landcover:  /glade/work/andywood/complexity/basins/bighorn/06282000/gis/lc_resample.tif\n",
      "classified canopy/no-canopy landcover:  /glade/work/andywood/complexity/basins/bighorn/06282000/gis/canopy_class.tif\n"
     ]
    }
   ],
   "source": [
    "# resample raster to refraster specs (if needed)\n",
    "if not os.path.exists(basin_landcover_resample_raster):\n",
    "    ga.resample_raster(basin_landcover_raster, refraster, basin_landcover_resample_raster) \n",
    "print('resampled landcover: ', basin_landcover_resample_raster)\n",
    "\n",
    "# apply canopy decision\n",
    "if not os.path.exists(basin_canopy_class_raster):\n",
    "    ga.classify_landcover(basin_landcover_resample_raster, basin_canopy_class_raster)\n",
    "print('classified canopy/no-canopy landcover: ', basin_canopy_class_raster)"
   ]
  },
  {
   "cell_type": "markdown",
   "metadata": {},
   "source": [
    "#### Visualize basin landcover classification ####"
   ]
  },
  {
   "cell_type": "code",
   "execution_count": null,
   "metadata": {},
   "outputs": [],
   "source": [
    "# plot settings\n",
    "wgs_epsg  = 4326\n",
    "figsize   = (12,12*0.6) # width, height in inches\n",
    "title     = basin_name.capitalize() + ' landcover type'\n",
    "leg_ncol  = 2\n",
    "leg_loc   = 'upper center'\n",
    "leg_bbox_to_anchor = (0.5,-0.15)\n",
    "  \n",
    "# IGBP classifications\n",
    "legend_dict={0:[\"black\", \"Unspecified\"],\n",
    "             1:[\"darkgreen\", \"Evergreen needleleaf forests\"],\n",
    "             2:[\"green\", \"Evergreen broadleaf forests\"],\n",
    "             3:[\"forestgreen\", 'Deciduous needleleaf forests'],\n",
    "             4:[\"limegreen\", 'Deciduous broadleaf forests'], \n",
    "             5:[\"lightgreen\", 'Mixed forests'], \n",
    "             6:[\"olivedrab\", 'Closed shrublands'], \n",
    "             7:[\"darkseagreen\", 'Open shrublands'], \n",
    "             8:[\"goldenrod\", 'Woody savannas'], \n",
    "             9:[\"gold\", 'Savannas'], \n",
    "             10:[\"mediumaquamarine\", 'Grasslands'], \n",
    "             11:[\"powderblue\", 'Permanent wetlands'], \n",
    "             12:[\"darkorange\", 'Croplands'], \n",
    "             13:[\"lightcoral\", 'Urban and built-up lands'], \n",
    "             14:[\"bisque\", 'Cropland/natural vegetation mosaics'], \n",
    "             15:[\"snow\", 'Snow and ice'], \n",
    "             16:[\"grey\", 'Barren'], \n",
    "             17:[\"royalblue\", 'Water bodies']} \n",
    "\n",
    "# set plot name and color choice\n",
    "output_fig_file = os.path.join(plot_path, 'landcover_and_bound_stream.png')   \n",
    "cmap_str='user'\n",
    "\n",
    "# plot land cover classes\n",
    "# (something is wrong with the categories shown in the plot but the categories appear to be ok from the data)\n",
    "gp.plot_raster_and_bound_stream(basin_landcover_resample_raster, basin_gru_prj_shp, basin_flowlines_shp, wgs_epsg, cmap_str,\n",
    "                                legend_dict, figsize,title, leg_loc, leg_bbox_to_anchor, leg_ncol, output_fig_file)"
   ]
  },
  {
   "cell_type": "markdown",
   "metadata": {},
   "source": [
    "#### Visualize basin landcover canopy/no-canopy classification ####"
   ]
  },
  {
   "cell_type": "code",
   "execution_count": null,
   "metadata": {},
   "outputs": [
    {
     "name": "stdout",
     "output_type": "stream",
     "text": [
      "data_unique: [1 2]\n",
      "data_counts: [204402 499098]\n",
      "length data_unique: 2\n",
      "legend_labels: {1: ['forestgreen', 'Canopy'], 2: ['whitesmoke', 'Non-canopy']}\n"
     ]
    }
   ],
   "source": [
    "# plot settings\n",
    "wgs_epsg    = 4326\n",
    "figsize     = (12, 12*0.6) # width, height in inches\n",
    "title       = basin_name.capitalize() + ' canopy/no-canopy type'\n",
    "leg_ncol    = 2\n",
    "leg_loc     = 'upper center'\n",
    "leg_bbox_to_anchor = (0.5,-0.15)\n",
    "#legend_dict = {1:[\"black\", \"Canopy\"],\n",
    "#               2:[\"whitesmoke\", \"Non-canopy\"]} \n",
    "legend_dict = {0:[\"black\", \"Unspecified\"],\n",
    "               1:[\"forestgreen\", \"Canopy\"],\n",
    "               2:[\"whitesmoke\", \"Non-canopy\"]} \n",
    "\n",
    "# set plot name and color choice\n",
    "output_fig_file = os.path.join(plot_path, 'canopy_class_and_bound_stream.png')   \n",
    "cmap_str = 'user'\n",
    "\n",
    "# plot canopy vs no-canopy decision\n",
    "gp.plot_raster_and_bound_stream(basin_canopy_class_raster, basin_gru_prj_shp, basin_flowlines_shp,\n",
    "                                wgs_epsg, cmap_str, legend_dict, figsize, title, leg_loc, leg_bbox_to_anchor, leg_ncol, output_fig_file)"
   ]
  },
  {
   "cell_type": "code",
   "execution_count": null,
   "metadata": {},
   "outputs": [],
   "source": [
    "# the above plot crashes the Jupyterhub kernel / drops core ... but after it makes the plot successfully"
   ]
  }
 ],
 "metadata": {
  "kernelspec": {
   "display_name": "Pangeo (2019.09.12 - py3.7)",
   "language": "python",
   "name": "pangeo-2019.09.12"
  },
  "language_info": {
   "codemirror_mode": {
    "name": "ipython",
    "version": 3
   },
   "file_extension": ".py",
   "mimetype": "text/x-python",
   "name": "python",
   "nbconvert_exporter": "python",
   "pygments_lexer": "ipython3",
   "version": "3.7.3"
  }
 },
 "nbformat": 4,
 "nbformat_minor": 4
}
